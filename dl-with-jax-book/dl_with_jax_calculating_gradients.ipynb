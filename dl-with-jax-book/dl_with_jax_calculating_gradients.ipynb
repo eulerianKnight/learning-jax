{
  "nbformat": 4,
  "nbformat_minor": 0,
  "metadata": {
    "colab": {
      "provenance": []
    },
    "kernelspec": {
      "name": "python3",
      "display_name": "Python 3"
    },
    "language_info": {
      "name": "python"
    }
  },
  "cells": [
    {
      "cell_type": "markdown",
      "source": [
        "# Calculating Gradients in JAX"
      ],
      "metadata": {
        "id": "ptqoxtygrZz0"
      }
    },
    {
      "cell_type": "markdown",
      "source": [
        "## Different Ways of calculating gradients"
      ],
      "metadata": {
        "id": "5T3JLyW3rc27"
      }
    },
    {
      "cell_type": "markdown",
      "source": [
        "### Manual Differentiation"
      ],
      "metadata": {
        "id": "TTdqUtO8s4qO"
      }
    },
    {
      "cell_type": "code",
      "execution_count": null,
      "metadata": {
        "id": "Thcpt4GupuGr"
      },
      "outputs": [],
      "source": [
        "# Define a simple function\n",
        "def f(x):\n",
        "    return x**4 + 12*x + 1/x"
      ]
    },
    {
      "cell_type": "code",
      "source": [
        "# Manual derivative calculation\n",
        "def df(x):\n",
        "    return 4*x**3 + 12 - 1/x**2\n",
        "\n",
        "x = 11.0\n",
        "print(f\"Function value at x = 11.0: {f(x)}\")\n",
        "print(f\"Value of the derivative of the function at x = 11.0: {df(x)}\")"
      ],
      "metadata": {
        "colab": {
          "base_uri": "https://localhost:8080/"
        },
        "id": "K5w7Pn7priq7",
        "outputId": "34055cae-5cbf-4388-e54f-0e52d62673af"
      },
      "execution_count": null,
      "outputs": [
        {
          "output_type": "stream",
          "name": "stdout",
          "text": [
            "Function value at x = 11.0: 14773.09090909091\n",
            "Value of the derivative of the function at x = 11.0: 5335.99173553719\n"
          ]
        }
      ]
    },
    {
      "cell_type": "markdown",
      "source": [
        "### Symbolic Differentiation"
      ],
      "metadata": {
        "id": "2bSZ0vOys66y"
      }
    },
    {
      "cell_type": "code",
      "source": [
        "import sympy\n",
        "\n",
        "x = 11.0\n",
        "# Create a variable\n",
        "x_sym = sympy.symbols('x')\n",
        "# Create an expression using the variable\n",
        "f_sym = f(x_sym)\n",
        "# Create symbolic derivative\n",
        "df_sym = sympy.diff(f_sym)\n",
        "print(f\"Symbolic Expression: {f_sym}\")\n",
        "print(f\"Symbolic Derivative of the expression: {df_sym}\")\n",
        "# COnvert symbolic expressions into numerical expressions\n",
        "f = sympy.lambdify(x_sym, f_sym)\n",
        "print(f\"Numerical value of expression: {f(x)}\")\n",
        "df = sympy.lambdify(x_sym, df_sym)\n",
        "print(f\"Numerical value of derivative of function: {df(x)}\")"
      ],
      "metadata": {
        "colab": {
          "base_uri": "https://localhost:8080/"
        },
        "id": "QRc18_f8sbgF",
        "outputId": "0fb9b847-e728-4b6e-f2fb-18ac440d4edd"
      },
      "execution_count": null,
      "outputs": [
        {
          "output_type": "stream",
          "name": "stdout",
          "text": [
            "Symbolic Expression: x**4 + 12*x + 1/x\n",
            "Symbolic Derivative of the expression: 4*x**3 + 12 - 1/x**2\n",
            "Numerical value of expression: 14773.09090909091\n",
            "Numerical value of derivative of function: 5335.99173553719\n"
          ]
        }
      ]
    },
    {
      "cell_type": "markdown",
      "source": [
        "### Numerical Differentiation"
      ],
      "metadata": {
        "id": "AsnFxZbmvLHT"
      }
    },
    {
      "cell_type": "code",
      "source": [
        "x = 11.0\n",
        "dx = 1e-6\n",
        "df_x_numeric = (f(x+dx)-f(x))/dx\n",
        "print(df_x_numeric)"
      ],
      "metadata": {
        "colab": {
          "base_uri": "https://localhost:8080/"
        },
        "id": "IHYWSMOPtyU7",
        "outputId": "6ab0c115-bc5c-4cc2-abbb-cc9da9c10360"
      },
      "execution_count": null,
      "outputs": [
        {
          "output_type": "stream",
          "name": "stdout",
          "text": [
            "5335.992456821259\n"
          ]
        }
      ]
    },
    {
      "cell_type": "markdown",
      "source": [
        "### AutoDiff(Automatic Differentiation)"
      ],
      "metadata": {
        "id": "xaqv5p86wKLn"
      }
    },
    {
      "cell_type": "code",
      "source": [
        "import jax\n",
        "df = jax.grad(f)\n",
        "print(df(x))"
      ],
      "metadata": {
        "colab": {
          "base_uri": "https://localhost:8080/"
        },
        "id": "c26HgtMyvQLJ",
        "outputId": "818327dd-83ba-4187-f6f6-5c48e340eebc"
      },
      "execution_count": null,
      "outputs": [
        {
          "output_type": "stream",
          "name": "stdout",
          "text": [
            "5335.9917\n"
          ]
        }
      ]
    },
    {
      "cell_type": "code",
      "source": [
        "# Generate data for a sample regression problem\n",
        "import numpy as np\n",
        "import matplotlib.pyplot as plt\n",
        "\n",
        "x = np.linspace(0, 10*np.pi, num=1000)\n",
        "e = np.random.normal(scale=10.0, size=x.size)\n",
        "y = 65.0 + 1.8*x + 40*np.cos(x) + e\n",
        "\n",
        "plt.scatter(x, y)"
      ],
      "metadata": {
        "colab": {
          "base_uri": "https://localhost:8080/",
          "height": 447
        },
        "id": "6QyLDEDLwQt7",
        "outputId": "22dcb0fe-15ec-4d52-af48-68624186ad93"
      },
      "execution_count": null,
      "outputs": [
        {
          "output_type": "execute_result",
          "data": {
            "text/plain": [
              "<matplotlib.collections.PathCollection at 0x7fc7745803a0>"
            ]
          },
          "metadata": {},
          "execution_count": 7
        },
        {
          "output_type": "display_data",
          "data": {
            "text/plain": [
              "<Figure size 640x480 with 1 Axes>"
            ],
            "image/png": "[encoded data removed]"
          },
          "metadata": {}
        }
      ]
    },
    {
      "cell_type": "code",
      "source": [
        "# Calculating Gradients in TensorFlow\n",
        "import tensorflow as tf\n",
        "\n",
        "xt = tf.constant(x, dtype=tf.float32)\n",
        "yt = tf.constant(y, dtype=tf.float32)\n",
        "\n",
        "learning_rate = 1e-2\n",
        "\n",
        "w = tf.Variable(1.0, trainable=True)\n",
        "b = tf.Variable(1.0, trainable=True)\n",
        "\n",
        "def model(x):\n",
        "    return w * x + b\n",
        "\n",
        "def loss_fn(prediction, y):\n",
        "    return tf.reduce_mean(tf.square(prediction-y))\n",
        "\n",
        "with tf.GradientTape() as tape:\n",
        "    prediction = model(x)\n",
        "    loss = loss_fn(prediction, y)\n",
        "\n",
        "dw, db = tape.gradient(loss, [w, b])\n",
        "\n",
        "w.assign_sub(learning_rate * dw)\n",
        "b.assign_sub(learning_rate * db)"
      ],
      "metadata": {
        "colab": {
          "base_uri": "https://localhost:8080/"
        },
        "id": "VI6fuzKxxGvS",
        "outputId": "17c2e59c-042d-4dee-a8a0-63390ba5e387"
      },
      "execution_count": null,
      "outputs": [
        {
          "output_type": "execute_result",
          "data": {
            "text/plain": [
              "<tf.Variable 'UnreadVariable' shape=() dtype=float32, numpy=2.5293589>"
            ]
          },
          "metadata": {},
          "execution_count": 8
        }
      ]
    },
    {
      "cell_type": "code",
      "source": [
        "# Calculating Gradients in PyTorch\n",
        "import torch\n",
        "\n",
        "xt = torch.tensor(x)\n",
        "yt = torch.tensor(y)\n",
        "\n",
        "learning_rate = 1e-2\n",
        "\n",
        "w = torch.tensor(1.0, requires_grad=True)\n",
        "b = torch.tensor(1.0, requires_grad=True)\n",
        "\n",
        "def model(x):\n",
        "    return w * x + b\n",
        "\n",
        "def loss_fn(prediction, y):\n",
        "    return ((prediction-y)**2).mean()\n",
        "\n",
        "prediction = model(xt)\n",
        "loss = loss_fn(prediction, yt)\n",
        "\n",
        "loss.backward()\n",
        "\n",
        "with torch.no_grad():\n",
        "    w -= w.grad * learning_rate\n",
        "    b -= b.grad * learning_rate\n",
        "    w.grad.zero_()\n",
        "    b.grad.zero_()"
      ],
      "metadata": {
        "id": "5D6SAEBIx4sd"
      },
      "execution_count": null,
      "outputs": []
    },
    {
      "cell_type": "code",
      "source": [
        "# Calculating Gradients in JAX\n",
        "import jax\n",
        "import jax.numpy as jnp\n",
        "\n",
        "xt = jnp.array(x)\n",
        "yt = jnp.array(y)\n",
        "\n",
        "learning_rate = 1e-2\n",
        "\n",
        "model_parameters = jnp.array([1., 1.])\n",
        "\n",
        "def model(theta, x):\n",
        "    w, b = theta\n",
        "    return w * x + b\n",
        "\n",
        "def loss_fn(model_parameters, x, y):\n",
        "    prediction = model(model_parameters, x)\n",
        "    return jnp.mean((prediction-y)**2)\n",
        "\n",
        "grads_fn = jax.grad(loss_fn)\n",
        "grads = grads_fn(model_parameters, xt, yt)\n",
        "model_parameters -= learning_rate * grads"
      ],
      "metadata": {
        "id": "Q2o6RZuDyJHO"
      },
      "execution_count": null,
      "outputs": []
    },
    {
      "cell_type": "markdown",
      "source": [
        "### Minkowski DIstance\n",
        "\n",
        "$D(X, Y) = \\left( \\sum_{i=1}^{n} |x_i - y_i|^p \\right)^{\\frac{1}{p}}$\n"
      ],
      "metadata": {
        "id": "kWCjLkhYzftF"
      }
    },
    {
      "cell_type": "code",
      "source": [
        "# Minkowski distance\n",
        "def minkowski_dist(order, x, y):\n",
        "    return jnp.power(jnp.sum(jnp.abs(x-y)**order), 1.0/order)"
      ],
      "metadata": {
        "id": "ivDD7lq4y3TT"
      },
      "execution_count": null,
      "outputs": []
    },
    {
      "cell_type": "code",
      "source": [
        "# Calculate derivative of minkowski distance w.r.t x(second argument)\n",
        "dist_d_x = jax.grad(minkowski_dist, argnums=1)\n",
        "dist_d_x(1, jnp.array([1.0,1.0,1.0]), jnp.array([2.0,2.0,2.0]))"
      ],
      "metadata": {
        "colab": {
          "base_uri": "https://localhost:8080/"
        },
        "id": "w9KG-prXztKO",
        "outputId": "737d7c0e-98df-4b96-bd06-0b64d4178318"
      },
      "execution_count": null,
      "outputs": [
        {
          "output_type": "execute_result",
          "data": {
            "text/plain": [
              "Array([-1., -1., -1.], dtype=float32)"
            ]
          },
          "metadata": {},
          "execution_count": 12
        }
      ]
    },
    {
      "cell_type": "code",
      "source": [
        "# Calulate deivative w.r.t x and y(second and third argument)\n",
        "dist_d_xy = jax.grad(minkowski_dist, argnums=(1,2))\n",
        "dist_d_xy(1, jnp.array([1.0,1.0,1.0]), jnp.array([2.0,2.0,2.0]))"
      ],
      "metadata": {
        "colab": {
          "base_uri": "https://localhost:8080/"
        },
        "id": "dyrIzWIGz9tW",
        "outputId": "0c0f95d9-6249-4d1e-810e-e7cfd8dd3ad5"
      },
      "execution_count": null,
      "outputs": [
        {
          "output_type": "execute_result",
          "data": {
            "text/plain": [
              "(Array([-1., -1., -1.], dtype=float32), Array([1., 1., 1.], dtype=float32))"
            ]
          },
          "metadata": {},
          "execution_count": 13
        }
      ]
    },
    {
      "cell_type": "markdown",
      "source": [
        "### Differentiating w.r.t dictionary"
      ],
      "metadata": {
        "id": "ZY9OipT_03rJ"
      }
    },
    {
      "cell_type": "code",
      "source": [
        "model_parameters = {\n",
        "    'w': jnp.array([1.]),\n",
        "    'b': jnp.array([1.])\n",
        "    }\n",
        "def model(param_dict, x):\n",
        "    w, b = param_dict['w'], param_dict['b']\n",
        "    return w * x + b\n",
        "def loss_fn(model_parameters, x, y):\n",
        "    prediction = model(model_parameters, x)\n",
        "    return jnp.mean((prediction-y)**2)\n",
        "grads_fn = jax.grad(loss_fn)\n",
        "grads = grads_fn(model_parameters, xt, yt)\n",
        "grads"
      ],
      "metadata": {
        "colab": {
          "base_uri": "https://localhost:8080/"
        },
        "id": "zDJya8a_0R7W",
        "outputId": "cd05f9b1-55c0-4ab5-ecdb-2c08ae6db502"
      },
      "execution_count": null,
      "outputs": [
        {
          "output_type": "execute_result",
          "data": {
            "text/plain": [
              "{'b': Array([-152.93588], dtype=float32),\n",
              " 'w': Array([-2520.919], dtype=float32)}"
            ]
          },
          "metadata": {},
          "execution_count": 14
        }
      ]
    },
    {
      "cell_type": "markdown",
      "source": [
        "### Returning auxiliary value"
      ],
      "metadata": {
        "id": "RWCwFqmq1SZH"
      }
    },
    {
      "cell_type": "code",
      "source": [
        "model_parameters = jnp.array([1., 1.])\n",
        "\n",
        "def model(theta, x):\n",
        "    w, b = theta\n",
        "    return w * x + b\n",
        "\n",
        "def loss_fn(model_parameters, x, y):\n",
        "    prediction = model(model_parameters, x)\n",
        "    return jnp.mean((prediction-y)**2), prediction\n",
        "\n",
        "grads_fn = jax.grad(loss_fn, has_aux=True)\n",
        "grads, preds  = grads_fn(model_parameters, xt, yt)\n",
        "model_parameters -= learning_rate * grads"
      ],
      "metadata": {
        "id": "eRhkqBR21Hvy"
      },
      "execution_count": null,
      "outputs": []
    },
    {
      "cell_type": "code",
      "source": [
        "# Returning both auxiliary value and gradient\n",
        "model_parameters = jnp.array([1., 1.])\n",
        "\n",
        "def model(theta, x):\n",
        "    w, b = theta\n",
        "    return w * x + b\n",
        "\n",
        "def loss_fn(model_parameters, x, y):\n",
        "    prediction = model(model_parameters, x)\n",
        "    return jnp.mean((prediction-y)**2), prediction\n",
        "\n",
        "grads_fn = jax.value_and_grad(loss_fn, has_aux=True)\n",
        "(loss, preds), grads  = grads_fn(model_parameters, xt, yt)\n",
        "model_parameters -= learning_rate * grads"
      ],
      "metadata": {
        "id": "zsQL_xDz1Yej"
      },
      "execution_count": null,
      "outputs": []
    },
    {
      "cell_type": "code",
      "source": [
        "print(loss)"
      ],
      "metadata": {
        "colab": {
          "base_uri": "https://localhost:8080/"
        },
        "id": "syYGac8_1wRj",
        "outputId": "dd6ffe0b-9ba4-4a41-d834-39952af1306f"
      },
      "execution_count": null,
      "outputs": [
        {
          "output_type": "stream",
          "name": "stdout",
          "text": [
            "6772.245\n"
          ]
        }
      ]
    },
    {
      "cell_type": "markdown",
      "source": [
        "### Stopping Gradient Flow"
      ],
      "metadata": {
        "id": "qlSjoWgl5kYA"
      }
    },
    {
      "cell_type": "code",
      "source": [
        "def f(x, y):\n",
        "  return x**2 + jax.lax.stop_gradient(y**2)\n",
        "\n",
        "jax.grad(f, argnums=(0,1))(1.0, 1.0)"
      ],
      "metadata": {
        "colab": {
          "base_uri": "https://localhost:8080/"
        },
        "id": "0xuKVOCT5jo3",
        "outputId": "42967d02-84c1-49ae-8497-55d26cff826e"
      },
      "execution_count": null,
      "outputs": [
        {
          "output_type": "execute_result",
          "data": {
            "text/plain": [
              "(Array(2., dtype=float32, weak_type=True),\n",
              " Array(0., dtype=float32, weak_type=True))"
            ]
          },
          "metadata": {},
          "execution_count": 20
        }
      ]
    },
    {
      "cell_type": "markdown",
      "source": [
        "### Finding Higher Order Derivatives"
      ],
      "metadata": {
        "id": "yQuf58on6AfQ"
      }
    },
    {
      "cell_type": "code",
      "source": [
        "def f(x):\n",
        "    return x**4 + 12*x + 1/x\n",
        "\n",
        "f_d1 = jax.grad(f)\n",
        "f_d2 = jax.grad(f_d1)\n",
        "f_d3 = jax.grad(f_d2)\n",
        "\n",
        "x = 11.0\n",
        "\n",
        "print(f_d1(x))\n",
        "print(f_d2(x))\n",
        "print(f_d3(x))"
      ],
      "metadata": {
        "colab": {
          "base_uri": "https://localhost:8080/"
        },
        "id": "66_-NFD75_Hu",
        "outputId": "9e8503e6-d2ca-41b3-bafe-f88cb7f25c3e"
      },
      "execution_count": null,
      "outputs": [
        {
          "output_type": "stream",
          "name": "stdout",
          "text": [
            "5335.9917\n",
            "1452.0015\n",
            "263.9996\n"
          ]
        }
      ]
    },
    {
      "cell_type": "code",
      "source": [
        "# Combining transformations\n",
        "f_d3 = jax.grad(jax.grad(jax.grad(f)))\n",
        "f_d3(x)"
      ],
      "metadata": {
        "colab": {
          "base_uri": "https://localhost:8080/"
        },
        "id": "_ljghjUR11y6",
        "outputId": "fdd38737-c85c-4f4f-c6e6-e298a20f3839"
      },
      "execution_count": null,
      "outputs": [
        {
          "output_type": "execute_result",
          "data": {
            "text/plain": [
              "Array(263.9996, dtype=float32, weak_type=True)"
            ]
          },
          "metadata": {},
          "execution_count": 22
        }
      ]
    },
    {
      "cell_type": "code",
      "source": [
        "# Plotting higher order derivatives\n",
        "def f(x):\n",
        "    return x**3 + 12*x + 7*x*jnp.sin(x)\n",
        "\n",
        "x = np.linspace(-10, 10, num=500)\n",
        "\n",
        "fig, ax = plt.subplots(figsize=(10,10))\n",
        "ax.plot(x, f(x), label = r\"$y = x^3 + 12x + 7x*sin(x)$\")\n",
        "\n",
        "df = f\n",
        "for d in range(3):\n",
        "  df = jax.grad(df)\n",
        "  ax.plot(x, jax.vmap(df)(x), label=f\"{['1st','2nd','3rd'][d]} derivative\")\n",
        "  ax.legend()"
      ],
      "metadata": {
        "colab": {
          "base_uri": "https://localhost:8080/",
          "height": 830
        },
        "id": "qtIkxRq76MXb",
        "outputId": "afb5b208-30a8-4667-8e86-4a967b382070"
      },
      "execution_count": null,
      "outputs": [
        {
          "output_type": "display_data",
          "data": {
            "text/plain": [
              "<Figure size 1000x1000 with 1 Axes>"
            ],
            "image/png": "[encoded data removed]"
          },
          "metadata": {}
        }
      ]
    },
    {
      "cell_type": "markdown",
      "source": [
        "## Multivariable Case"
      ],
      "metadata": {
        "id": "OOJdtfX47VvU"
      }
    },
    {
      "cell_type": "markdown",
      "source": [
        "### Jacobian"
      ],
      "metadata": {
        "id": "IGZt7cKG7Zqi"
      }
    },
    {
      "cell_type": "code",
      "source": [
        "import jax\n",
        "import jax.numpy as jnp\n",
        "\n",
        "def f(x):\n",
        "  return [\n",
        "      x[0]**2 + x[1]**2 - x[1]*x[2],\n",
        "      x[0]**2 - x[1]**2 + 3*x[0]*x[2]\n",
        "  ]\n",
        "\n",
        "print(f\"Reverse AutoDiff for Jacobian: {jax.jacrev(f)(jnp.array([3.0, 4.0, 5.0]))}\")\n",
        "print(f\"Forward Autodiff for Jacobian: {jax.jacfwd(f)(jnp.array([3.0, 4.0, 5.0]))}\")"
      ],
      "metadata": {
        "colab": {
          "base_uri": "https://localhost:8080/"
        },
        "id": "fM2fYN9U6Zjg",
        "outputId": "cb9fbb60-e3e2-48e2-ad8e-a7b41cbea3a3"
      },
      "execution_count": null,
      "outputs": [
        {
          "output_type": "stream",
          "name": "stdout",
          "text": [
            "Reverse AutoDiff for Jacobian: [Array([ 6.,  3., -4.], dtype=float32), Array([21., -8.,  9.], dtype=float32)]\n",
            "Forward Autodiff for Jacobian: [Array([ 6.,  3., -4.], dtype=float32), Array([21., -8.,  9.], dtype=float32)]\n"
          ]
        }
      ]
    },
    {
      "cell_type": "code",
      "source": [
        "%timeit -n 100 jax.jacrev(f)(jnp.array([3.0, 4.0, 5.0]))"
      ],
      "metadata": {
        "colab": {
          "base_uri": "https://localhost:8080/"
        },
        "id": "pvmz9ptArW1K",
        "outputId": "cbd369cc-d864-4aad-e5ac-bcb0c14f54c7"
      },
      "execution_count": null,
      "outputs": [
        {
          "output_type": "stream",
          "name": "stdout",
          "text": [
            "25.4 ms ± 3.49 ms per loop (mean ± std. dev. of 7 runs, 100 loops each)\n"
          ]
        }
      ]
    },
    {
      "cell_type": "code",
      "source": [
        "%timeit -n 100 jax.jacfwd(f)(jnp.array([3.0, 4.0, 5.0]))"
      ],
      "metadata": {
        "colab": {
          "base_uri": "https://localhost:8080/"
        },
        "id": "JWCIHR_ZrXm7",
        "outputId": "2de59edb-0059-46bc-ac24-1c3acc23576c"
      },
      "execution_count": null,
      "outputs": [
        {
          "output_type": "stream",
          "name": "stdout",
          "text": [
            "13.7 ms ± 2.25 ms per loop (mean ± std. dev. of 7 runs, 100 loops each)\n"
          ]
        }
      ]
    },
    {
      "cell_type": "markdown",
      "source": [
        "### Hessian"
      ],
      "metadata": {
        "id": "fu5GNMQWr8a0"
      }
    },
    {
      "cell_type": "code",
      "source": [
        "# Calculate Hessian of a function\n",
        "def f(x):\n",
        "  return x[0]**2 - x[1]**2 + 3*x[0]*x[2]\n",
        "jax.hessian(f)(jnp.array([3.0, 4.0, 5.0]))"
      ],
      "metadata": {
        "colab": {
          "base_uri": "https://localhost:8080/"
        },
        "id": "eyqFKmBPrwnH",
        "outputId": "2c7a3b67-06ec-4537-a64f-fa7e4c9022c6"
      },
      "execution_count": null,
      "outputs": [
        {
          "output_type": "execute_result",
          "data": {
            "text/plain": [
              "Array([[ 2.,  0.,  3.],\n",
              "       [ 0., -2.,  0.],\n",
              "       [ 3.,  0.,  0.]], dtype=float32)"
            ]
          },
          "metadata": {},
          "execution_count": 4
        }
      ]
    },
    {
      "cell_type": "code",
      "source": [
        "# Hessian as Jacobian of the gradient\n",
        "def hessian(f):\n",
        "    return jax.jacfwd(jax.grad(f))\n",
        "def hessian(f):\n",
        "    return jax.jacfwd(jax.jacrev(f))"
      ],
      "metadata": {
        "id": "iv2rnzS-sGZJ"
      },
      "execution_count": null,
      "outputs": []
    },
    {
      "cell_type": "markdown",
      "source": [
        "## Automatic Differentiation in Depth"
      ],
      "metadata": {
        "id": "RG7l-lsvuLQ_"
      }
    },
    {
      "cell_type": "code",
      "source": [],
      "metadata": {
        "id": "VaTUxNp1sgPS"
      },
      "execution_count": null,
      "outputs": []
    }
  ]
}